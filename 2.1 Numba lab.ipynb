{
  "cells": [
    {
      "cell_type": "markdown",
      "id": "9af66fe0-71ee-4a4c-b16d-e7288a7aa863",
      "metadata": {
        "id": "9af66fe0-71ee-4a4c-b16d-e7288a7aa863"
      },
      "source": [
        "# Numba Lab\n",
        "\n",
        "Now it's your turn!\n",
        "\n",
        "Your challenge is to implement Fizz Buzz in CUDA Python with numba and calculate all instances of `Fizz`, `Buzz` and `Fizz Buzz` for the numbers between `1` and `50_000_000`.\n",
        "\n",
        "Before you begin, please turn off Google Colab's autocompletion by going to the settings gear in the top right -> Editor -> Uncheck \"Automatically trigger code completions\""
      ]
    },
    {
      "cell_type": "code",
      "execution_count": 1,
      "id": "83342135-ae20-44f4-b807-d8a0e715a41b",
      "metadata": {
        "id": "83342135-ae20-44f4-b807-d8a0e715a41b"
      },
      "outputs": [],
      "source": [
        "import numpy as np\n",
        "from numba import cuda"
      ]
    },
    {
      "cell_type": "markdown",
      "id": "58f3fbf4-7e50-43de-9ddb-f7fd6a3cf7d3",
      "metadata": {
        "id": "58f3fbf4-7e50-43de-9ddb-f7fd6a3cf7d3"
      },
      "source": [
        "**1. Create the input data array.** Try using `np.arange`."
      ]
    },
    {
      "cell_type": "code",
      "execution_count": 3,
      "id": "75188098-ad67-4ebc-8123-48aa40071524",
      "metadata": {
        "id": "75188098-ad67-4ebc-8123-48aa40071524",
        "outputId": "6ff00efe-c29f-4712-d0ec-2a27570821a0",
        "colab": {
          "base_uri": "https://localhost:8080/"
        }
      },
      "outputs": [
        {
          "output_type": "execute_result",
          "data": {
            "text/plain": [
              "array([       1,        2,        3, ..., 49999998, 49999999, 50000000])"
            ]
          },
          "metadata": {},
          "execution_count": 3
        }
      ],
      "source": [
        "data = np.arange(1, 50_000_001)\n",
        "data"
      ]
    },
    {
      "cell_type": "markdown",
      "id": "3334d891-8331-4bad-8528-b16e0e2f0719",
      "metadata": {
        "id": "3334d891-8331-4bad-8528-b16e0e2f0719"
      },
      "source": [
        "**2. Create the output data array.**"
      ]
    },
    {
      "cell_type": "code",
      "execution_count": 4,
      "id": "2bc25714-5f7c-4653-b660-0fca3a7682b9",
      "metadata": {
        "id": "2bc25714-5f7c-4653-b660-0fca3a7682b9",
        "outputId": "92be072b-f87b-4189-b02a-dee3681c6de8",
        "colab": {
          "base_uri": "https://localhost:8080/"
        }
      },
      "outputs": [
        {
          "output_type": "execute_result",
          "data": {
            "text/plain": [
              "array([0, 0, 0, ..., 0, 0, 0])"
            ]
          },
          "metadata": {},
          "execution_count": 4
        }
      ],
      "source": [
        "output = np.zeros_like(data)\n",
        "output"
      ]
    },
    {
      "cell_type": "markdown",
      "id": "67ad1fed-bae3-4e1c-aaac-c90a798a8024",
      "metadata": {
        "id": "67ad1fed-bae3-4e1c-aaac-c90a798a8024"
      },
      "source": [
        "**3. Calculate the number of threads and blocks.**"
      ]
    },
    {
      "cell_type": "code",
      "execution_count": 19,
      "id": "d91f35c7-bbbc-4cd3-bd60-38231ffbbf91",
      "metadata": {
        "id": "d91f35c7-bbbc-4cd3-bd60-38231ffbbf91",
        "outputId": "ee131a58-5bc8-47ba-ec0c-6124c2013c6b",
        "colab": {
          "base_uri": "https://localhost:8080/"
        }
      },
      "outputs": [
        {
          "output_type": "execute_result",
          "data": {
            "text/plain": [
              "390625"
            ]
          },
          "metadata": {},
          "execution_count": 19
        }
      ],
      "source": [
        "import math\n",
        "\n",
        "threads = 128\n",
        "blocks = math.ceil(data.shape[0] / threads)\n",
        "blocks"
      ]
    },
    {
      "cell_type": "markdown",
      "id": "9d562640-0cd6-434c-9f90-8e7ebc02ccba",
      "metadata": {
        "id": "9d562640-0cd6-434c-9f90-8e7ebc02ccba"
      },
      "source": [
        "**4. Create the kernel.** _Tip: Our output array must be numeric so try using the values `1`, `2` and `3` to represent `Fizz`, `Buzz` and `Fizz Buzz`._"
      ]
    },
    {
      "cell_type": "code",
      "execution_count": 20,
      "id": "5706c5b9-6010-407e-95a3-6cecade6ab5c",
      "metadata": {
        "id": "5706c5b9-6010-407e-95a3-6cecade6ab5c",
        "outputId": "063bc9d4-7a60-4adf-d939-9109cf2dd7f1",
        "colab": {
          "base_uri": "https://localhost:8080/"
        }
      },
      "outputs": [
        {
          "output_type": "stream",
          "name": "stderr",
          "text": [
            "/usr/local/lib/python3.10/dist-packages/numba/cuda/cudadrv/devicearray.py:886: NumbaPerformanceWarning: Host array used in CUDA kernel will incur copy overhead to/from device.\n",
            "  warn(NumbaPerformanceWarning(msg))\n"
          ]
        },
        {
          "output_type": "execute_result",
          "data": {
            "text/plain": [
              "array([0, 0, 1, 0, 2, 1, 0, 0, 1, 2, 0, 1, 0, 0, 3, 0, 0, 1, 0, 2, 1, 0,\n",
              "       0, 1, 2, 0, 1, 0, 0, 3, 0, 0, 1, 0, 2, 1, 0, 0, 1, 2, 0, 1, 0, 0,\n",
              "       3, 0, 0, 1, 0, 2, 1, 0, 0, 1, 2, 0, 1, 0, 0, 3, 0, 0, 1, 0, 2, 1,\n",
              "       0, 0, 1, 2, 0, 1, 0, 0, 3, 0, 0, 1, 0, 2, 1, 0, 0, 1, 2, 0, 1, 0,\n",
              "       0, 3, 0, 0, 1, 0, 2, 1, 0, 0, 1, 2])"
            ]
          },
          "metadata": {},
          "execution_count": 20
        }
      ],
      "source": [
        "@cuda.jit\n",
        "def fizz_buzz(input_array, output_array):\n",
        "    i = cuda.grid(1)\n",
        "    if input_array[i]%3==0:\n",
        "      output_array[i] = 1\n",
        "    if input_array[i]%5==0:\n",
        "      output_array[i] = 2\n",
        "    if input_array[i]%3==0 and input_array[i]%5==0:\n",
        "      output_array[i] = 3\n",
        "\n",
        "fizz_buzz[blocks, threads](data, output)\n",
        "output[0:100]"
      ]
    },
    {
      "cell_type": "markdown",
      "id": "c0bded64-c8d3-4165-9141-54b97112e58b",
      "metadata": {
        "id": "c0bded64-c8d3-4165-9141-54b97112e58b"
      },
      "source": [
        "**5. Run our kernel.**"
      ]
    },
    {
      "cell_type": "code",
      "execution_count": 21,
      "id": "3177d207-d9c6-4624-8ed1-b4b79e6f8ba2",
      "metadata": {
        "id": "3177d207-d9c6-4624-8ed1-b4b79e6f8ba2",
        "outputId": "d8a96579-af9b-41cd-b5c5-0444b073a82b",
        "colab": {
          "base_uri": "https://localhost:8080/"
        }
      },
      "outputs": [
        {
          "output_type": "stream",
          "name": "stdout",
          "text": [
            "CPU times: user 343 ms, sys: 2.22 ms, total: 345 ms\n",
            "Wall time: 345 ms\n"
          ]
        },
        {
          "output_type": "execute_result",
          "data": {
            "text/plain": [
              "array([0, 0, 1, 0, 2, 1, 0, 0, 1, 2, 0, 1])"
            ]
          },
          "metadata": {},
          "execution_count": 21
        }
      ],
      "source": [
        "%%time\n",
        "fizz_buzz[blocks, threads](data, output)\n",
        "output[:12]"
      ]
    },
    {
      "cell_type": "markdown",
      "id": "5fddf47e-3d1d-4cbb-9405-44141fdb5d2f",
      "metadata": {
        "id": "5fddf47e-3d1d-4cbb-9405-44141fdb5d2f"
      },
      "source": [
        "**Extra Credit 6. Calculate the highest instance of `Fizz`.**"
      ]
    },
    {
      "cell_type": "code",
      "execution_count": null,
      "id": "a9b6ccf7-4f1b-4ad3-bad1-5dd9ea0fccb0",
      "metadata": {
        "id": "a9b6ccf7-4f1b-4ad3-bad1-5dd9ea0fccb0"
      },
      "outputs": [],
      "source": [
        "idx = ...\n",
        "data[idx]"
      ]
    }
  ],
  "metadata": {
    "kernelspec": {
      "display_name": "Python 3",
      "name": "python3"
    },
    "language_info": {
      "codemirror_mode": {
        "name": "ipython",
        "version": 3
      },
      "file_extension": ".py",
      "mimetype": "text/x-python",
      "name": "python",
      "nbconvert_exporter": "python",
      "pygments_lexer": "ipython3",
      "version": "3.10.13"
    },
    "colab": {
      "provenance": [],
      "gpuType": "T4"
    },
    "accelerator": "GPU"
  },
  "nbformat": 4,
  "nbformat_minor": 5
}